{
 "cells": [
  {
   "cell_type": "code",
   "execution_count": 1,
   "metadata": {},
   "outputs": [],
   "source": [
    "import numpy as np\n",
    "import pandas as pd\n",
    "from bic import *\n",
    "from simulate_bias import *"
   ]
  },
  {
   "cell_type": "code",
   "execution_count": 2,
   "metadata": {},
   "outputs": [],
   "source": [
    "np.random.seed(1)\n",
    "y, X = simulate_ovb(\n",
    "    nindividuals=100,\n",
    "    nfeatures=2,\n",
    "    ngroups=2,\n",
    "    nperiods=5,\n",
    "    theta=np.array([0.1,0.5]),\n",
    "    alpha=alpha(5),\n",
    "    low=-3,\n",
    "    up=3\n",
    ")"
   ]
  },
  {
   "cell_type": "code",
   "execution_count": 3,
   "metadata": {},
   "outputs": [],
   "source": [
    "a =  bic(outcome=y, ngroups=2, nperiods=5, nindividuals=100, alpha_0=alpha(5),\n",
    "                                                    theta_0 = np.array([0.1,0.5]), X=X, nfeatures=2)"
   ]
  },
  {
   "cell_type": "code",
   "execution_count": 4,
   "metadata": {},
   "outputs": [
    {
     "data": {
      "text/plain": [
       "{'Estimates': array([ 0.11590026,  0.48204788,  1.21705521,  1.15173962,  1.10112414,\n",
       "         1.29141839,  1.25267666, -0.23114129, -0.34824144, -0.62974007,\n",
       "        -0.85162144, -0.95388687]),\n",
       " 'sd': array([0.02397042, 0.02508125, 0.10940639, 0.14124951, 0.13198043,\n",
       "        0.12103953, 0.14797876, 0.12415097, 0.14268259, 0.11484082,\n",
       "        0.15753641, 0.13640984]),\n",
       " 'bic': 2.4871269371241977,\n",
       " 'objective': 445.09829762684285}"
      ]
     },
     "execution_count": 4,
     "metadata": {},
     "output_type": "execute_result"
    }
   ],
   "source": [
    "a"
   ]
  },
  {
   "cell_type": "code",
   "execution_count": 6,
   "metadata": {},
   "outputs": [
    {
     "data": {
      "text/plain": [
       "{'Estimates': array([ 0.11590026,  0.48204788,  1.21705521,  1.15173962,  1.10112414,\n",
       "         1.29141839,  1.25267666, -0.23114129, -0.34824144, -0.62974007,\n",
       "        -0.85162144, -0.95388687]),\n",
       " 'sd': array([0.02408516, 0.02509055, 0.11211073, 0.14518402, 0.12698282,\n",
       "        0.12452195, 0.13984745, 0.12075894, 0.13879225, 0.12194268,\n",
       "        0.152356  , 0.14586316]),\n",
       " 'bic': 2.4871269371241977,\n",
       " 'objective': 445.09829762684285}"
      ]
     },
     "execution_count": 6,
     "metadata": {},
     "output_type": "execute_result"
    }
   ],
   "source": [
    "b =  bic(outcome=y, ngroups=2, nperiods=5, nindividuals=100, alpha_0=np.array([ 1 ,  1.1,  1.15,  1.2,  1.3,\n",
    "       -0.1       , -0.2       , -0.3       , -0.4       , -0.5        ]) ,theta_0 = np.array([0.1,0.5]), X=X, nfeatures=2)\n",
    "b"
   ]
  },
  {
   "cell_type": "code",
   "execution_count": 7,
   "metadata": {},
   "outputs": [],
   "source": [
    "c = bic(outcome=y, ngroups=3, nperiods=5, nindividuals=100, alpha_0=np.array([ 1 ,  1.1,  1.15,  1.2,  1.3,\n",
    "       -0.1       , -0.2       , -0.3       , -0.4       , -0.5,  -0.3 , -0.5       , -0.7       , -0.9       , -1.2     ]) ,theta_0 = np.array([0.1,0.5]), X=X, nfeatures=2)"
   ]
  },
  {
   "cell_type": "code",
   "execution_count": 8,
   "metadata": {},
   "outputs": [
    {
     "data": {
      "text/plain": [
       "{'Estimates': array([ 0.12113601,  0.48225612,  1.21912408,  1.24209999,  1.15534619,\n",
       "         1.35665194,  1.42793188,  0.20807105, -0.12737683, -0.52056166,\n",
       "        -0.17214842, -0.51068282, -0.63478364, -0.57555298, -0.50495571,\n",
       "        -1.67051718, -1.60400125]),\n",
       " 'sd': array([0.02351066, 0.02291508, 0.11339495, 0.14045314, 0.13625178,\n",
       "        0.12452737, 0.12972872, 0.16172561, 0.17902286, 0.18189623,\n",
       "        0.19218496, 0.18018723, 0.17838581, 0.2077794 , 0.15840903,\n",
       "        0.15789007, 0.13356737]),\n",
       " 'bic': 2.309695172882623,\n",
       " 'objective': 398.4352589085281}"
      ]
     },
     "execution_count": 8,
     "metadata": {},
     "output_type": "execute_result"
    }
   ],
   "source": [
    "c"
   ]
  },
  {
   "cell_type": "code",
   "execution_count": 9,
   "metadata": {},
   "outputs": [
    {
     "data": {
      "text/plain": [
       "{'Estimates': array([ 0.11590026,  0.48204788,  1.21705521,  1.15173962,  1.10112414,\n",
       "         1.29141839,  1.25267666, -0.23114129, -0.34824144, -0.62974007,\n",
       "        -0.85162144, -0.95388687]),\n",
       " 'sd': array([0.02408516, 0.02509055, 0.11211073, 0.14518402, 0.12698282,\n",
       "        0.12452195, 0.13984745, 0.12075894, 0.13879225, 0.12194268,\n",
       "        0.152356  , 0.14586316]),\n",
       " 'bic': 2.4871269371241977,\n",
       " 'objective': 445.09829762684285}"
      ]
     },
     "execution_count": 9,
     "metadata": {},
     "output_type": "execute_result"
    }
   ],
   "source": [
    "b"
   ]
  },
  {
   "cell_type": "code",
   "execution_count": 15,
   "metadata": {},
   "outputs": [
    {
     "data": {
      "text/html": [
       "<div>\n",
       "<style scoped>\n",
       "    .dataframe tbody tr th:only-of-type {\n",
       "        vertical-align: middle;\n",
       "    }\n",
       "\n",
       "    .dataframe tbody tr th {\n",
       "        vertical-align: top;\n",
       "    }\n",
       "\n",
       "    .dataframe thead th {\n",
       "        text-align: right;\n",
       "    }\n",
       "</style>\n",
       "<table border=\"1\" class=\"dataframe\">\n",
       "  <thead>\n",
       "    <tr style=\"text-align: right;\">\n",
       "      <th></th>\n",
       "      <th>0</th>\n",
       "    </tr>\n",
       "  </thead>\n",
       "  <tbody>\n",
       "    <tr>\n",
       "      <th>0</th>\n",
       "      <td>0.115900</td>\n",
       "    </tr>\n",
       "    <tr>\n",
       "      <th>1</th>\n",
       "      <td>0.482048</td>\n",
       "    </tr>\n",
       "    <tr>\n",
       "      <th>2</th>\n",
       "      <td>1.217055</td>\n",
       "    </tr>\n",
       "    <tr>\n",
       "      <th>3</th>\n",
       "      <td>1.151740</td>\n",
       "    </tr>\n",
       "    <tr>\n",
       "      <th>4</th>\n",
       "      <td>1.101124</td>\n",
       "    </tr>\n",
       "    <tr>\n",
       "      <th>5</th>\n",
       "      <td>1.291418</td>\n",
       "    </tr>\n",
       "    <tr>\n",
       "      <th>6</th>\n",
       "      <td>1.252677</td>\n",
       "    </tr>\n",
       "    <tr>\n",
       "      <th>7</th>\n",
       "      <td>-0.231141</td>\n",
       "    </tr>\n",
       "    <tr>\n",
       "      <th>8</th>\n",
       "      <td>-0.348241</td>\n",
       "    </tr>\n",
       "    <tr>\n",
       "      <th>9</th>\n",
       "      <td>-0.629740</td>\n",
       "    </tr>\n",
       "    <tr>\n",
       "      <th>10</th>\n",
       "      <td>-0.851621</td>\n",
       "    </tr>\n",
       "    <tr>\n",
       "      <th>11</th>\n",
       "      <td>-0.953887</td>\n",
       "    </tr>\n",
       "  </tbody>\n",
       "</table>\n",
       "</div>"
      ],
      "text/plain": [
       "           0\n",
       "0   0.115900\n",
       "1   0.482048\n",
       "2   1.217055\n",
       "3   1.151740\n",
       "4   1.101124\n",
       "5   1.291418\n",
       "6   1.252677\n",
       "7  -0.231141\n",
       "8  -0.348241\n",
       "9  -0.629740\n",
       "10 -0.851621\n",
       "11 -0.953887"
      ]
     },
     "execution_count": 15,
     "metadata": {},
     "output_type": "execute_result"
    }
   ],
   "source": [
    "pd.DataFrame(b['Estimates'])"
   ]
  },
  {
   "cell_type": "code",
   "execution_count": 14,
   "metadata": {},
   "outputs": [
    {
     "data": {
      "text/plain": [
       "array([ 0.11590026,  0.48204788,  1.21705521,  1.15173962,  1.10112414,\n",
       "        1.29141839,  1.25267666, -0.23114129, -0.34824144, -0.62974007,\n",
       "       -0.85162144, -0.95388687])"
      ]
     },
     "execution_count": 14,
     "metadata": {},
     "output_type": "execute_result"
    }
   ],
   "source": [
    "b['Estimates']"
   ]
  },
  {
   "cell_type": "code",
   "execution_count": 16,
   "metadata": {},
   "outputs": [
    {
     "data": {
      "text/plain": [
       "0.8901965952536857"
      ]
     },
     "execution_count": 16,
     "metadata": {},
     "output_type": "execute_result"
    }
   ],
   "source": [
    "b['objective']/500"
   ]
  },
  {
   "cell_type": "code",
   "execution_count": 17,
   "metadata": {},
   "outputs": [
    {
     "data": {
      "text/plain": [
       "0.7968705178170562"
      ]
     },
     "execution_count": 17,
     "metadata": {},
     "output_type": "execute_result"
    }
   ],
   "source": [
    "c['objective']/500"
   ]
  },
  {
   "cell_type": "code",
   "execution_count": 20,
   "metadata": {},
   "outputs": [
    {
     "data": {
      "text/plain": [
       "0"
      ]
     },
     "execution_count": 20,
     "metadata": {},
     "output_type": "execute_result"
    }
   ],
   "source": [
    "sum((b['bic'] < c['bic'])*1).mean() # I will need to do this for all"
   ]
  },
  {
   "cell_type": "code",
   "execution_count": 75,
   "metadata": {},
   "outputs": [
    {
     "data": {
      "text/plain": [
       "array([False, False, False, False, False, False, False, False, False,\n",
       "       False, False, False, False, False, False, False, False, False,\n",
       "       False, False, False, False, False, False, False, False, False,\n",
       "       False, False, False, False, False, False, False, False, False,\n",
       "       False, False, False, False, False, False, False, False, False,\n",
       "       False, False, False, False, False, False, False, False, False,\n",
       "       False, False, False, False, False, False, False, False, False,\n",
       "       False, False, False, False, False, False, False, False, False,\n",
       "       False, False, False, False, False, False, False, False, False,\n",
       "       False, False, False, False, False, False, False, False, False,\n",
       "       False, False, False, False, False, False, False, False, False,\n",
       "       False])"
      ]
     },
     "execution_count": 75,
     "metadata": {},
     "output_type": "execute_result"
    }
   ],
   "source": [
    "(b['bic'] < c['bic'] )& (b['bic'] < f['bic']) & (b['bic'] < h['bic'])"
   ]
  },
  {
   "cell_type": "code",
   "execution_count": 73,
   "metadata": {},
   "outputs": [
    {
     "data": {
      "text/plain": [
       "[2.4871269371241977,\n",
       " 2.7329729044846287,\n",
       " 2.665667127193459,\n",
       " 2.557315093456678,\n",
       " 2.679328979015313,\n",
       " 2.715032321454252,\n",
       " 2.9875820381593376,\n",
       " 2.466738693550191,\n",
       " 2.4855250566746707,\n",
       " 2.433557581037467,\n",
       " 2.603011000323636,\n",
       " 2.7561837075683973,\n",
       " 2.6623392997322717,\n",
       " 2.670683513666142,\n",
       " 2.527969908351375,\n",
       " 2.7626086434605868,\n",
       " 2.5859770731098157,\n",
       " 2.712591117682868,\n",
       " 2.752295637303585,\n",
       " 2.5065781200231902,\n",
       " 2.61762787481077,\n",
       " 2.5240838425043517,\n",
       " 2.758002391336089,\n",
       " 2.771812745077595,\n",
       " 2.5155043989112658,\n",
       " 2.674356791530297,\n",
       " 2.8983475039061406,\n",
       " 2.6731910809705086,\n",
       " 2.5179768917177343,\n",
       " 2.7512111256646934,\n",
       " 2.7287257883369795,\n",
       " 2.602869520123553,\n",
       " 2.564214206755914,\n",
       " 2.5126474695730048,\n",
       " 2.795330708540282,\n",
       " 2.5435003905806655,\n",
       " 2.8034579945186646,\n",
       " 2.839206906953237,\n",
       " 2.669147027836761,\n",
       " 2.8614855233190184,\n",
       " 2.5161603860442687,\n",
       " 2.5553545362268846,\n",
       " 2.9089063437105906,\n",
       " 2.63747700067084,\n",
       " 2.5427145720867323,\n",
       " 2.5251427598974585,\n",
       " 2.623933365046072,\n",
       " 2.7560163580242674,\n",
       " 2.5971052465516,\n",
       " 2.6308764402313516,\n",
       " 3.0898375210616678,\n",
       " 2.400963223851221,\n",
       " 2.7385141240945168,\n",
       " 2.999443106142254,\n",
       " 2.457283183108336,\n",
       " 2.614300521754019,\n",
       " 2.5213008669530788,\n",
       " 2.7449321191159757,\n",
       " 2.6007463262507002,\n",
       " 2.4909457698989477,\n",
       " 2.769964480650875,\n",
       " 2.7952602116108585,\n",
       " 2.6164946262994055,\n",
       " 2.9437595025952312,\n",
       " 2.6112810141171607,\n",
       " 2.9929544351541724,\n",
       " 2.5122595039446987,\n",
       " 2.5201577171689067,\n",
       " 2.8282990775770243,\n",
       " 2.772061145516492,\n",
       " 2.790097486115791,\n",
       " 2.418056049191633,\n",
       " 2.9876512942779185,\n",
       " 2.566639873801222,\n",
       " 2.5888541054633687,\n",
       " 2.6888274145699658,\n",
       " 2.6190715133575058,\n",
       " 2.644244982384811,\n",
       " 2.9867572021636075,\n",
       " 2.6430461266794416,\n",
       " 2.749880898189484,\n",
       " 2.6555810044999424,\n",
       " 2.836523352402452,\n",
       " 2.3570127052027954,\n",
       " 2.4980006910643624,\n",
       " 2.853318678439984,\n",
       " 2.4665557728365712,\n",
       " 2.7911709184618774,\n",
       " 2.9184248176702594,\n",
       " 2.749425133706026,\n",
       " 2.5890161167579437,\n",
       " 2.5777190400159027,\n",
       " 2.6312094668674497,\n",
       " 2.4640250074445627,\n",
       " 2.7501130840442087,\n",
       " 2.813321723804915,\n",
       " 2.642261595232619,\n",
       " 2.6400345089202686,\n",
       " 2.630038016780148,\n",
       " 2.654908790300137]"
      ]
     },
     "execution_count": 73,
     "metadata": {},
     "output_type": "execute_result"
    }
   ],
   "source": []
  },
  {
   "cell_type": "code",
   "execution_count": 27,
   "metadata": {},
   "outputs": [],
   "source": [
    "def monte_carlo_simulation_groups(\n",
    "    nindividuals,\n",
    "    nfeatures,\n",
    "    ngroups,\n",
    "    specified_ngroups,\n",
    "    nperiods,\n",
    "    theta,\n",
    "    alpha,\n",
    "    theta_0,\n",
    "    alpha_0,\n",
    "    low,\n",
    "    up,\n",
    "    nreps,\n",
    "    seed\n",
    "):\n",
    "    \"\"\"[summary]\n",
    "\n",
    "    Args:\n",
    "        nindividuals ([type]): [description]\n",
    "        nfeatures ([type]): [description]\n",
    "        ngroups ([type]): [description]\n",
    "        specified_ngroups([type]): [description]\n",
    "        nperiods ([type]): [description]\n",
    "        theta ([type]): [description]\n",
    "        alpha ([type]): [description]\n",
    "        theta_0\n",
    "        alpha_0\n",
    "        low ([type]): [description]\n",
    "        up ([type]): [description]\n",
    "        nreps ([type]): [description]\n",
    "        seed ([type]): [description]\n",
    "    \n",
    "    Return:\n",
    "\n",
    "    \"\"\"\n",
    "    np.random.seed(seed)\n",
    "    monte_carlo_coefficients = []\n",
    "    estimates_sd = []\n",
    "    ic =[]\n",
    "    #objective=[]\n",
    "    \n",
    "    for i in range(nreps):\n",
    "        y, X = simulate_ovb(nindividuals, nfeatures, ngroups, nperiods, theta, alpha, low, up) \n",
    "        a = gfe_bic(outcome=y, ngroups=specified_ngroups, nperiods=nperiods, nindividuals=nindividuals, \n",
    "                                                                   alpha_0=alpha_0, theta_0 = theta_0, X=X, nfeatures=nfeatures)\n",
    "        monte_carlo_coefficients.append(a['Estimates'])\n",
    "        \n",
    "        #variance = np.concatenate((gfe_variance(outcome=y, ngroups=specified_ngroups, nperiods=nperiods, \n",
    "        #nindividuals=nindividuals, nfeatures=nfeatures, alpha_0=alpha_0, \n",
    "        #theta_0=theta_0, X=X)))\n",
    "        estimates_sd.append(a['sd'])\n",
    "        ic.append(a['bic'])\n",
    "        #objective.append(a['objective'])\n",
    "        \n",
    "    return({'Estimates': monte_carlo_coefficients, 'sd': estimates_sd}, {'bic': ic})"
   ]
  },
  {
   "cell_type": "code",
   "execution_count": 31,
   "metadata": {},
   "outputs": [],
   "source": [
    "e, f = monte_carlo_simulation_groups(\n",
    "    nindividuals=100,\n",
    "    nfeatures=2,\n",
    "    ngroups=2,\n",
    "    specified_ngroups=2,\n",
    "    nperiods=5,\n",
    "    theta=np.array([0.1,0.5]),\n",
    "    alpha=alpha(5),\n",
    "    theta_0= np.array([0.1,0.5]),\n",
    "    alpha_0 = alpha(5),\n",
    "    low=-3,\n",
    "    up=3,\n",
    "    nreps=100,\n",
    "    seed=1\n",
    ")"
   ]
  },
  {
   "cell_type": "markdown",
   "metadata": {},
   "source": [
    "# Data Frames e,f and g,h compares the Sensitivty of the Algorithm to its starting values."
   ]
  },
  {
   "cell_type": "code",
   "execution_count": 35,
   "metadata": {},
   "outputs": [
    {
     "data": {
      "text/plain": [
       "0     0.104036\n",
       "1     0.500649\n",
       "2     1.046985\n",
       "3     1.100576\n",
       "4     1.171096\n",
       "5     1.222648\n",
       "6     1.299351\n",
       "7    -0.183170\n",
       "8    -0.402180\n",
       "9    -0.588380\n",
       "10   -0.798615\n",
       "11   -0.983534\n",
       "dtype: float64"
      ]
     },
     "execution_count": 35,
     "metadata": {},
     "output_type": "execute_result"
    }
   ],
   "source": [
    "pd.DataFrame(e['Estimates']).mean()"
   ]
  },
  {
   "cell_type": "code",
   "execution_count": 36,
   "metadata": {},
   "outputs": [],
   "source": [
    "g, h = monte_carlo_simulation_groups(\n",
    "    nindividuals=100,\n",
    "    nfeatures=2,\n",
    "    ngroups=2,\n",
    "    specified_ngroups=2,\n",
    "    nperiods=5,\n",
    "    theta=np.array([0.1,0.5]),\n",
    "    alpha=alpha(5),\n",
    "    theta_0= np.array([0.1,0.5]),\n",
    "    alpha_0 = np.array([ 1 ,  1.1,  1.15,  1.2,  1.3,\n",
    "       -0.1       , -0.2       , -0.3       , -0.4       , -0.5        ]),\n",
    "    low=-3,\n",
    "    up=3,\n",
    "    nreps=100,\n",
    "    seed=1\n",
    ")"
   ]
  },
  {
   "cell_type": "code",
   "execution_count": 37,
   "metadata": {},
   "outputs": [
    {
     "data": {
      "text/plain": [
       "0     0.104709\n",
       "1     0.500796\n",
       "2     1.051247\n",
       "3     1.106740\n",
       "4     1.178916\n",
       "5     1.229588\n",
       "6     1.311194\n",
       "7    -0.177195\n",
       "8    -0.395005\n",
       "9    -0.580788\n",
       "10   -0.788911\n",
       "11   -0.975394\n",
       "dtype: float64"
      ]
     },
     "execution_count": 37,
     "metadata": {},
     "output_type": "execute_result"
    }
   ],
   "source": [
    "pd.DataFrame(g['Estimates']).mean()"
   ]
  },
  {
   "cell_type": "code",
   "execution_count": 53,
   "metadata": {},
   "outputs": [
    {
     "data": {
      "text/plain": [
       "0    0.76\n",
       "dtype: float64"
      ]
     },
     "execution_count": 53,
     "metadata": {},
     "output_type": "execute_result"
    }
   ],
   "source": [
    "((pd.DataFrame(h['obj']) == pd.DataFrame(f['obj']))*1).mean()"
   ]
  },
  {
   "cell_type": "code",
   "execution_count": 65,
   "metadata": {
    "collapsed": true,
    "jupyter": {
     "outputs_hidden": true
    }
   },
   "outputs": [
    {
     "ename": "ValueError",
     "evalue": "DataFrame constructor not properly called!",
     "output_type": "error",
     "traceback": [
      "\u001b[0;31m---------------------------------------------------------------------------\u001b[0m",
      "\u001b[0;31mValueError\u001b[0m                                Traceback (most recent call last)",
      "\u001b[0;32m<ipython-input-65-3ccea5875aa0>\u001b[0m in \u001b[0;36m<module>\u001b[0;34m\u001b[0m\n\u001b[0;32m----> 1\u001b[0;31m \u001b[0;34m(\u001b[0m\u001b[0;34m(\u001b[0m\u001b[0mpd\u001b[0m\u001b[0;34m.\u001b[0m\u001b[0mDataFrame\u001b[0m\u001b[0;34m(\u001b[0m\u001b[0mh\u001b[0m\u001b[0;34m[\u001b[0m\u001b[0;34m'bic'\u001b[0m\u001b[0;34m]\u001b[0m\u001b[0;34m)\u001b[0m \u001b[0;34m<\u001b[0m \u001b[0;34m(\u001b[0m\u001b[0mpd\u001b[0m\u001b[0;34m.\u001b[0m\u001b[0mDataFrame\u001b[0m\u001b[0;34m(\u001b[0m\u001b[0mf\u001b[0m\u001b[0;34m[\u001b[0m\u001b[0;34m'bic'\u001b[0m\u001b[0;34m]\u001b[0m\u001b[0;34m)\u001b[0m \u001b[0;34m&\u001b[0m \u001b[0mpd\u001b[0m\u001b[0;34m.\u001b[0m\u001b[0mDataFrame\u001b[0m\u001b[0;34m(\u001b[0m\u001b[0mb\u001b[0m\u001b[0;34m[\u001b[0m\u001b[0;34m'bic'\u001b[0m\u001b[0;34m]\u001b[0m\u001b[0;34m)\u001b[0m\u001b[0;34m&\u001b[0m \u001b[0mpd\u001b[0m\u001b[0;34m.\u001b[0m\u001b[0mDataFrame\u001b[0m\u001b[0;34m(\u001b[0m\u001b[0mc\u001b[0m\u001b[0;34m[\u001b[0m\u001b[0;34m'bic'\u001b[0m\u001b[0;34m]\u001b[0m\u001b[0;34m)\u001b[0m\u001b[0;34m)\u001b[0m\u001b[0;34m)\u001b[0m\u001b[0;34m*\u001b[0m\u001b[0;36m1\u001b[0m\u001b[0;34m)\u001b[0m\u001b[0;34m.\u001b[0m\u001b[0mmean\u001b[0m\u001b[0;34m(\u001b[0m\u001b[0;34m)\u001b[0m\u001b[0;34m\u001b[0m\u001b[0;34m\u001b[0m\u001b[0m\n\u001b[0m",
      "\u001b[0;32m/opt/anaconda3/lib/python3.8/site-packages/pandas/core/frame.py\u001b[0m in \u001b[0;36m__init__\u001b[0;34m(self, data, index, columns, dtype, copy)\u001b[0m\n\u001b[1;32m    527\u001b[0m         \u001b[0;32melse\u001b[0m\u001b[0;34m:\u001b[0m\u001b[0;34m\u001b[0m\u001b[0;34m\u001b[0m\u001b[0m\n\u001b[1;32m    528\u001b[0m             \u001b[0;32mif\u001b[0m \u001b[0mindex\u001b[0m \u001b[0;32mis\u001b[0m \u001b[0;32mNone\u001b[0m \u001b[0;32mor\u001b[0m \u001b[0mcolumns\u001b[0m \u001b[0;32mis\u001b[0m \u001b[0;32mNone\u001b[0m\u001b[0;34m:\u001b[0m\u001b[0;34m\u001b[0m\u001b[0;34m\u001b[0m\u001b[0m\n\u001b[0;32m--> 529\u001b[0;31m                 \u001b[0;32mraise\u001b[0m \u001b[0mValueError\u001b[0m\u001b[0;34m(\u001b[0m\u001b[0;34m\"DataFrame constructor not properly called!\"\u001b[0m\u001b[0;34m)\u001b[0m\u001b[0;34m\u001b[0m\u001b[0;34m\u001b[0m\u001b[0m\n\u001b[0m\u001b[1;32m    530\u001b[0m \u001b[0;34m\u001b[0m\u001b[0m\n\u001b[1;32m    531\u001b[0m             \u001b[0;32mif\u001b[0m \u001b[0;32mnot\u001b[0m \u001b[0mdtype\u001b[0m\u001b[0;34m:\u001b[0m\u001b[0;34m\u001b[0m\u001b[0;34m\u001b[0m\u001b[0m\n",
      "\u001b[0;31mValueError\u001b[0m: DataFrame constructor not properly called!"
     ]
    }
   ],
   "source": [
    "((pd.DataFrame(h['bic']) < (pd.DataFrame(f['bic']) & pd.DataFrame(b['bic'])& pd.DataFrame(c['bic'])))*1).mean()"
   ]
  },
  {
   "cell_type": "code",
   "execution_count": 63,
   "metadata": {},
   "outputs": [
    {
     "data": {
      "text/html": [
       "<div>\n",
       "<style scoped>\n",
       "    .dataframe tbody tr th:only-of-type {\n",
       "        vertical-align: middle;\n",
       "    }\n",
       "\n",
       "    .dataframe tbody tr th {\n",
       "        vertical-align: top;\n",
       "    }\n",
       "\n",
       "    .dataframe thead th {\n",
       "        text-align: right;\n",
       "    }\n",
       "</style>\n",
       "<table border=\"1\" class=\"dataframe\">\n",
       "  <thead>\n",
       "    <tr style=\"text-align: right;\">\n",
       "      <th></th>\n",
       "      <th>0</th>\n",
       "    </tr>\n",
       "  </thead>\n",
       "  <tbody>\n",
       "    <tr>\n",
       "      <th>0</th>\n",
       "      <td>445.098298</td>\n",
       "    </tr>\n",
       "    <tr>\n",
       "      <th>1</th>\n",
       "      <td>489.095096</td>\n",
       "    </tr>\n",
       "    <tr>\n",
       "      <th>2</th>\n",
       "      <td>477.049998</td>\n",
       "    </tr>\n",
       "    <tr>\n",
       "      <th>3</th>\n",
       "      <td>457.753500</td>\n",
       "    </tr>\n",
       "    <tr>\n",
       "      <th>4</th>\n",
       "      <td>479.324667</td>\n",
       "    </tr>\n",
       "  </tbody>\n",
       "</table>\n",
       "</div>"
      ],
      "text/plain": [
       "            0\n",
       "0  445.098298\n",
       "1  489.095096\n",
       "2  477.049998\n",
       "3  457.753500\n",
       "4  479.324667"
      ]
     },
     "execution_count": 63,
     "metadata": {},
     "output_type": "execute_result"
    }
   ],
   "source": [
    "pd.DataFrame(f['obj']).head()"
   ]
  },
  {
   "cell_type": "code",
   "execution_count": 62,
   "metadata": {},
   "outputs": [
    {
     "data": {
      "text/html": [
       "<div>\n",
       "<style scoped>\n",
       "    .dataframe tbody tr th:only-of-type {\n",
       "        vertical-align: middle;\n",
       "    }\n",
       "\n",
       "    .dataframe tbody tr th {\n",
       "        vertical-align: top;\n",
       "    }\n",
       "\n",
       "    .dataframe thead th {\n",
       "        text-align: right;\n",
       "    }\n",
       "</style>\n",
       "<table border=\"1\" class=\"dataframe\">\n",
       "  <thead>\n",
       "    <tr style=\"text-align: right;\">\n",
       "      <th></th>\n",
       "      <th>0</th>\n",
       "    </tr>\n",
       "  </thead>\n",
       "  <tbody>\n",
       "    <tr>\n",
       "      <th>0</th>\n",
       "      <td>445.098298</td>\n",
       "    </tr>\n",
       "    <tr>\n",
       "      <th>1</th>\n",
       "      <td>489.095096</td>\n",
       "    </tr>\n",
       "    <tr>\n",
       "      <th>2</th>\n",
       "      <td>477.049998</td>\n",
       "    </tr>\n",
       "    <tr>\n",
       "      <th>3</th>\n",
       "      <td>457.659228</td>\n",
       "    </tr>\n",
       "    <tr>\n",
       "      <th>4</th>\n",
       "      <td>479.494934</td>\n",
       "    </tr>\n",
       "  </tbody>\n",
       "</table>\n",
       "</div>"
      ],
      "text/plain": [
       "            0\n",
       "0  445.098298\n",
       "1  489.095096\n",
       "2  477.049998\n",
       "3  457.659228\n",
       "4  479.494934"
      ]
     },
     "execution_count": 62,
     "metadata": {},
     "output_type": "execute_result"
    }
   ],
   "source": [
    "pd.DataFrame(h['obj']).head(5)"
   ]
  },
  {
   "cell_type": "code",
   "execution_count": 60,
   "metadata": {},
   "outputs": [
    {
     "data": {
      "text/html": [
       "<div>\n",
       "<style scoped>\n",
       "    .dataframe tbody tr th:only-of-type {\n",
       "        vertical-align: middle;\n",
       "    }\n",
       "\n",
       "    .dataframe tbody tr th {\n",
       "        vertical-align: top;\n",
       "    }\n",
       "\n",
       "    .dataframe thead th {\n",
       "        text-align: right;\n",
       "    }\n",
       "</style>\n",
       "<table border=\"1\" class=\"dataframe\">\n",
       "  <thead>\n",
       "    <tr style=\"text-align: right;\">\n",
       "      <th></th>\n",
       "      <th>0</th>\n",
       "      <th>1</th>\n",
       "      <th>2</th>\n",
       "      <th>3</th>\n",
       "      <th>4</th>\n",
       "      <th>5</th>\n",
       "      <th>6</th>\n",
       "      <th>7</th>\n",
       "      <th>8</th>\n",
       "      <th>9</th>\n",
       "      <th>10</th>\n",
       "      <th>11</th>\n",
       "    </tr>\n",
       "  </thead>\n",
       "  <tbody>\n",
       "    <tr>\n",
       "      <th>0</th>\n",
       "      <td>11.59</td>\n",
       "      <td>48.20</td>\n",
       "      <td>121.71</td>\n",
       "      <td>115.17</td>\n",
       "      <td>110.11</td>\n",
       "      <td>129.14</td>\n",
       "      <td>125.27</td>\n",
       "      <td>-23.11</td>\n",
       "      <td>-34.82</td>\n",
       "      <td>-62.97</td>\n",
       "      <td>-85.16</td>\n",
       "      <td>-95.39</td>\n",
       "    </tr>\n",
       "    <tr>\n",
       "      <th>1</th>\n",
       "      <td>11.89</td>\n",
       "      <td>54.20</td>\n",
       "      <td>87.53</td>\n",
       "      <td>110.02</td>\n",
       "      <td>99.88</td>\n",
       "      <td>131.30</td>\n",
       "      <td>161.23</td>\n",
       "      <td>-27.09</td>\n",
       "      <td>-50.08</td>\n",
       "      <td>-64.13</td>\n",
       "      <td>-83.17</td>\n",
       "      <td>-111.29</td>\n",
       "    </tr>\n",
       "    <tr>\n",
       "      <th>2</th>\n",
       "      <td>8.69</td>\n",
       "      <td>50.72</td>\n",
       "      <td>91.44</td>\n",
       "      <td>86.82</td>\n",
       "      <td>92.12</td>\n",
       "      <td>111.66</td>\n",
       "      <td>130.84</td>\n",
       "      <td>-24.30</td>\n",
       "      <td>-17.92</td>\n",
       "      <td>-77.47</td>\n",
       "      <td>-84.60</td>\n",
       "      <td>-100.03</td>\n",
       "    </tr>\n",
       "    <tr>\n",
       "      <th>3</th>\n",
       "      <td>3.87</td>\n",
       "      <td>49.85</td>\n",
       "      <td>122.35</td>\n",
       "      <td>132.07</td>\n",
       "      <td>114.43</td>\n",
       "      <td>132.49</td>\n",
       "      <td>154.60</td>\n",
       "      <td>-35.65</td>\n",
       "      <td>-29.93</td>\n",
       "      <td>-55.79</td>\n",
       "      <td>-70.77</td>\n",
       "      <td>-99.92</td>\n",
       "    </tr>\n",
       "    <tr>\n",
       "      <th>4</th>\n",
       "      <td>8.18</td>\n",
       "      <td>52.55</td>\n",
       "      <td>78.41</td>\n",
       "      <td>114.29</td>\n",
       "      <td>112.76</td>\n",
       "      <td>121.13</td>\n",
       "      <td>128.13</td>\n",
       "      <td>-8.62</td>\n",
       "      <td>-31.06</td>\n",
       "      <td>-72.91</td>\n",
       "      <td>-83.66</td>\n",
       "      <td>-98.49</td>\n",
       "    </tr>\n",
       "  </tbody>\n",
       "</table>\n",
       "</div>"
      ],
      "text/plain": [
       "      0      1       2       3       4       5       6      7      8      9   \\\n",
       "0  11.59  48.20  121.71  115.17  110.11  129.14  125.27 -23.11 -34.82 -62.97   \n",
       "1  11.89  54.20   87.53  110.02   99.88  131.30  161.23 -27.09 -50.08 -64.13   \n",
       "2   8.69  50.72   91.44   86.82   92.12  111.66  130.84 -24.30 -17.92 -77.47   \n",
       "3   3.87  49.85  122.35  132.07  114.43  132.49  154.60 -35.65 -29.93 -55.79   \n",
       "4   8.18  52.55   78.41  114.29  112.76  121.13  128.13  -8.62 -31.06 -72.91   \n",
       "\n",
       "      10      11  \n",
       "0 -85.16  -95.39  \n",
       "1 -83.17 -111.29  \n",
       "2 -84.60 -100.03  \n",
       "3 -70.77  -99.92  \n",
       "4 -83.66  -98.49  "
      ]
     },
     "execution_count": 60,
     "metadata": {},
     "output_type": "execute_result"
    }
   ],
   "source": [
    "pd.DataFrame(e['Estimates']).head(5).round(4)*100"
   ]
  },
  {
   "cell_type": "code",
   "execution_count": 59,
   "metadata": {},
   "outputs": [
    {
     "data": {
      "text/html": [
       "<div>\n",
       "<style scoped>\n",
       "    .dataframe tbody tr th:only-of-type {\n",
       "        vertical-align: middle;\n",
       "    }\n",
       "\n",
       "    .dataframe tbody tr th {\n",
       "        vertical-align: top;\n",
       "    }\n",
       "\n",
       "    .dataframe thead th {\n",
       "        text-align: right;\n",
       "    }\n",
       "</style>\n",
       "<table border=\"1\" class=\"dataframe\">\n",
       "  <thead>\n",
       "    <tr style=\"text-align: right;\">\n",
       "      <th></th>\n",
       "      <th>0</th>\n",
       "      <th>1</th>\n",
       "      <th>2</th>\n",
       "      <th>3</th>\n",
       "      <th>4</th>\n",
       "      <th>5</th>\n",
       "      <th>6</th>\n",
       "      <th>7</th>\n",
       "      <th>8</th>\n",
       "      <th>9</th>\n",
       "      <th>10</th>\n",
       "      <th>11</th>\n",
       "    </tr>\n",
       "  </thead>\n",
       "  <tbody>\n",
       "    <tr>\n",
       "      <th>0</th>\n",
       "      <td>11.59</td>\n",
       "      <td>48.20</td>\n",
       "      <td>121.71</td>\n",
       "      <td>115.17</td>\n",
       "      <td>110.11</td>\n",
       "      <td>129.14</td>\n",
       "      <td>125.27</td>\n",
       "      <td>-23.11</td>\n",
       "      <td>-34.82</td>\n",
       "      <td>-62.97</td>\n",
       "      <td>-85.16</td>\n",
       "      <td>-95.39</td>\n",
       "    </tr>\n",
       "    <tr>\n",
       "      <th>1</th>\n",
       "      <td>11.89</td>\n",
       "      <td>54.20</td>\n",
       "      <td>87.53</td>\n",
       "      <td>110.02</td>\n",
       "      <td>99.88</td>\n",
       "      <td>131.30</td>\n",
       "      <td>161.23</td>\n",
       "      <td>-27.09</td>\n",
       "      <td>-50.08</td>\n",
       "      <td>-64.13</td>\n",
       "      <td>-83.17</td>\n",
       "      <td>-111.29</td>\n",
       "    </tr>\n",
       "    <tr>\n",
       "      <th>2</th>\n",
       "      <td>8.69</td>\n",
       "      <td>50.72</td>\n",
       "      <td>91.44</td>\n",
       "      <td>86.82</td>\n",
       "      <td>92.12</td>\n",
       "      <td>111.66</td>\n",
       "      <td>130.84</td>\n",
       "      <td>-24.30</td>\n",
       "      <td>-17.92</td>\n",
       "      <td>-77.47</td>\n",
       "      <td>-84.60</td>\n",
       "      <td>-100.03</td>\n",
       "    </tr>\n",
       "    <tr>\n",
       "      <th>3</th>\n",
       "      <td>4.00</td>\n",
       "      <td>49.88</td>\n",
       "      <td>119.92</td>\n",
       "      <td>136.41</td>\n",
       "      <td>116.85</td>\n",
       "      <td>135.18</td>\n",
       "      <td>156.84</td>\n",
       "      <td>-30.47</td>\n",
       "      <td>-30.83</td>\n",
       "      <td>-54.80</td>\n",
       "      <td>-69.40</td>\n",
       "      <td>-97.17</td>\n",
       "    </tr>\n",
       "    <tr>\n",
       "      <th>4</th>\n",
       "      <td>8.11</td>\n",
       "      <td>52.63</td>\n",
       "      <td>80.91</td>\n",
       "      <td>113.91</td>\n",
       "      <td>114.46</td>\n",
       "      <td>126.28</td>\n",
       "      <td>128.00</td>\n",
       "      <td>-9.34</td>\n",
       "      <td>-27.75</td>\n",
       "      <td>-70.91</td>\n",
       "      <td>-84.71</td>\n",
       "      <td>-93.90</td>\n",
       "    </tr>\n",
       "  </tbody>\n",
       "</table>\n",
       "</div>"
      ],
      "text/plain": [
       "      0      1       2       3       4       5       6      7      8      9   \\\n",
       "0  11.59  48.20  121.71  115.17  110.11  129.14  125.27 -23.11 -34.82 -62.97   \n",
       "1  11.89  54.20   87.53  110.02   99.88  131.30  161.23 -27.09 -50.08 -64.13   \n",
       "2   8.69  50.72   91.44   86.82   92.12  111.66  130.84 -24.30 -17.92 -77.47   \n",
       "3   4.00  49.88  119.92  136.41  116.85  135.18  156.84 -30.47 -30.83 -54.80   \n",
       "4   8.11  52.63   80.91  113.91  114.46  126.28  128.00  -9.34 -27.75 -70.91   \n",
       "\n",
       "      10      11  \n",
       "0 -85.16  -95.39  \n",
       "1 -83.17 -111.29  \n",
       "2 -84.60 -100.03  \n",
       "3 -69.40  -97.17  \n",
       "4 -84.71  -93.90  "
      ]
     },
     "execution_count": 59,
     "metadata": {},
     "output_type": "execute_result"
    }
   ],
   "source": [
    "pd.DataFrame(g['Estimates']).head(5).round(4)*100 "
   ]
  },
  {
   "cell_type": "code",
   "execution_count": 61,
   "metadata": {},
   "outputs": [
    {
     "data": {
      "text/plain": [
       "array([ 105.12710964,  110.51709181,  116.18342427,  122.14027582,\n",
       "        128.40254167,  -20.        ,  -40.        ,  -60.        ,\n",
       "        -80.        , -100.        ])"
      ]
     },
     "execution_count": 61,
     "metadata": {},
     "output_type": "execute_result"
    }
   ],
   "source": [
    "alpha(5)*100"
   ]
  },
  {
   "cell_type": "code",
   "execution_count": 77,
   "metadata": {},
   "outputs": [
    {
     "data": {
      "text/plain": [
       "True"
      ]
     },
     "execution_count": 77,
     "metadata": {},
     "output_type": "execute_result"
    }
   ],
   "source": [
    "d = {'bic':[0,1,2]}\n",
    "i = {'bic':[1,2,3]}\n",
    "d['bic'] < i['bic']"
   ]
  },
  {
   "cell_type": "code",
   "execution_count": 91,
   "metadata": {},
   "outputs": [
    {
     "data": {
      "text/plain": [
       "bic    0.666667\n",
       "dtype: float64"
      ]
     },
     "execution_count": 91,
     "metadata": {},
     "output_type": "execute_result"
    }
   ],
   "source": [
    "(((pd.DataFrame(d) < pd.DataFrame(i))&(pd.DataFrame(d) < pd.DataFrame(j)))*1).mean()"
   ]
  },
  {
   "cell_type": "code",
   "execution_count": 90,
   "metadata": {},
   "outputs": [],
   "source": [
    "j = {'bic':[-1,2,3]}"
   ]
  },
  {
   "cell_type": "code",
   "execution_count": 94,
   "metadata": {},
   "outputs": [],
   "source": [
    "estimates22, bic22 =  monte_carlo_simulation_groups (**params, nindividuals=100, nperiods=10,\n",
    "alpha=alpha(10), alpha_0=np.append(np.append((alpha(10)[:10]+0.5),(alpha(10)[:10]-0.5)), np.append((alpha(10)[10:]+0.5),(alpha(10)[10:]-0.5))),\n",
    " specified_ngroups=4)"
   ]
  },
  {
   "cell_type": "code",
   "execution_count": 93,
   "metadata": {},
   "outputs": [],
   "source": [
    "def compare_bic(a,b,c,d, G, T, N):\n",
    "    return pd.DataFrame({\n",
    "        'Selection rate': (((pd.DataFrame(a) < pd.DataFrame(b)) & (pd.DataFrame(a) < pd.DataFrame(c)) & (pd.DataFrame(a) < pd.DataFrame(d)))*1).mean(),\n",
    "        'T':T,\n",
    "        'N': N,\n",
    "        'G': G\n",
    "    })\n",
    "    \n",
    "\n",
    "\n",
    "\"\"\"DGP\"\"\"\n",
    "\n",
    "\n",
    "params = {\"nfeatures\" : 2,\n",
    "          \"ngroups\" : 2,\n",
    "          \"theta\" : np.array([0.1, 0.5]),\n",
    "          \"theta_0\" : np.array([0.2, 0.4]),\n",
    "          \"low\" : -3,\n",
    "          \"up\" : 3,\n",
    "          \"nreps\" : 1000,\n",
    "          \"seed\" : 1}"
   ]
  },
  {
   "cell_type": "code",
   "execution_count": 95,
   "metadata": {},
   "outputs": [],
   "source": [
    "estimates1, bic1 =  monte_carlo_simulation_groups(**params, nindividuals=100, nperiods=5,alpha=alpha(5), alpha_0=(alpha(5)[:5] + alpha(5)[5:10])/2,specified_ngroups=1)"
   ]
  },
  {
   "cell_type": "code",
   "execution_count": 96,
   "metadata": {},
   "outputs": [],
   "source": [
    "estimates28, bic28 =  monte_carlo_simulation_groups(**params, nindividuals=100, nperiods=5,alpha=alpha(5), alpha_0=alpha(5),specified_ngroups=2)"
   ]
  },
  {
   "cell_type": "code",
   "execution_count": 97,
   "metadata": {},
   "outputs": [],
   "source": [
    "estimates10, bic10 =  monte_carlo_simulation_groups(**params, nindividuals=100, nperiods=5,\n",
    "alpha=alpha(5), alpha_0=np.append(alpha(5),((alpha(5)[:5] + alpha(5)[5:10])/2)),specified_ngroups=3)"
   ]
  },
  {
   "cell_type": "code",
   "execution_count": 115,
   "metadata": {},
   "outputs": [],
   "source": [
    "bic_table = pd.concat([compare_bic(bic1['bic'],bic10['bic'], bic28['bic'], bic22['bic'], N=100, T=5, G=1),\n",
    "compare_bic(bic10['bic'], bic28['bic'], bic22['bic'],bic1['bic'], N=100, T=5, G=3),\n",
    "compare_bic(bic22['bic'],bic1['bic'],bic10['bic'], bic28['bic'], N=100, T=5, G=4),\n",
    "compare_bic(bic28['bic'],bic10['bic'],bic22['bic'],bic1['bic'], N=100, T=5, G=2)]).set_index(['T', 'N', 'G']).sort_index() #.to_latex('bic_groups.tex')"
   ]
  },
  {
   "cell_type": "code",
   "execution_count": 116,
   "metadata": {},
   "outputs": [
    {
     "data": {
      "text/html": [
       "<div>\n",
       "<style scoped>\n",
       "    .dataframe tbody tr th:only-of-type {\n",
       "        vertical-align: middle;\n",
       "    }\n",
       "\n",
       "    .dataframe tbody tr th {\n",
       "        vertical-align: top;\n",
       "    }\n",
       "\n",
       "    .dataframe thead th {\n",
       "        text-align: right;\n",
       "    }\n",
       "</style>\n",
       "<table border=\"1\" class=\"dataframe\">\n",
       "  <thead>\n",
       "    <tr style=\"text-align: right;\">\n",
       "      <th></th>\n",
       "      <th></th>\n",
       "      <th></th>\n",
       "      <th>Selection rate</th>\n",
       "    </tr>\n",
       "    <tr>\n",
       "      <th>T</th>\n",
       "      <th>N</th>\n",
       "      <th>G</th>\n",
       "      <th></th>\n",
       "    </tr>\n",
       "  </thead>\n",
       "  <tbody>\n",
       "    <tr>\n",
       "      <th rowspan=\"4\" valign=\"top\">5</th>\n",
       "      <th rowspan=\"4\" valign=\"top\">100</th>\n",
       "      <th>1</th>\n",
       "      <td>0.0</td>\n",
       "    </tr>\n",
       "    <tr>\n",
       "      <th>2</th>\n",
       "      <td>0.0</td>\n",
       "    </tr>\n",
       "    <tr>\n",
       "      <th>3</th>\n",
       "      <td>0.0</td>\n",
       "    </tr>\n",
       "    <tr>\n",
       "      <th>4</th>\n",
       "      <td>1.0</td>\n",
       "    </tr>\n",
       "  </tbody>\n",
       "</table>\n",
       "</div>"
      ],
      "text/plain": [
       "         Selection rate\n",
       "T N   G                \n",
       "5 100 1             0.0\n",
       "      2             0.0\n",
       "      3             0.0\n",
       "      4             1.0"
      ]
     },
     "execution_count": 116,
     "metadata": {},
     "output_type": "execute_result"
    }
   ],
   "source": [
    "bic_table"
   ]
  },
  {
   "cell_type": "code",
   "execution_count": 101,
   "metadata": {},
   "outputs": [
    {
     "data": {
      "text/html": [
       "<div>\n",
       "<style scoped>\n",
       "    .dataframe tbody tr th:only-of-type {\n",
       "        vertical-align: middle;\n",
       "    }\n",
       "\n",
       "    .dataframe tbody tr th {\n",
       "        vertical-align: top;\n",
       "    }\n",
       "\n",
       "    .dataframe thead th {\n",
       "        text-align: right;\n",
       "    }\n",
       "</style>\n",
       "<table border=\"1\" class=\"dataframe\">\n",
       "  <thead>\n",
       "    <tr style=\"text-align: right;\">\n",
       "      <th></th>\n",
       "      <th>Selection rate</th>\n",
       "      <th>T</th>\n",
       "      <th>N</th>\n",
       "      <th>G</th>\n",
       "    </tr>\n",
       "  </thead>\n",
       "  <tbody>\n",
       "    <tr>\n",
       "      <th>bic</th>\n",
       "      <td>0.0</td>\n",
       "      <td>5</td>\n",
       "      <td>100</td>\n",
       "      <td>1</td>\n",
       "    </tr>\n",
       "    <tr>\n",
       "      <th>obj</th>\n",
       "      <td>0.0</td>\n",
       "      <td>5</td>\n",
       "      <td>100</td>\n",
       "      <td>1</td>\n",
       "    </tr>\n",
       "  </tbody>\n",
       "</table>\n",
       "</div>"
      ],
      "text/plain": [
       "     Selection rate  T    N  G\n",
       "bic             0.0  5  100  1\n",
       "obj             0.0  5  100  1"
      ]
     },
     "execution_count": 101,
     "metadata": {},
     "output_type": "execute_result"
    }
   ],
   "source": [
    "compare_bic(bic1,bic10, bic28, bic22, N=100, T=5, G=1)"
   ]
  },
  {
   "cell_type": "code",
   "execution_count": 102,
   "metadata": {},
   "outputs": [
    {
     "data": {
      "text/html": [
       "<div>\n",
       "<style scoped>\n",
       "    .dataframe tbody tr th:only-of-type {\n",
       "        vertical-align: middle;\n",
       "    }\n",
       "\n",
       "    .dataframe tbody tr th {\n",
       "        vertical-align: top;\n",
       "    }\n",
       "\n",
       "    .dataframe thead th {\n",
       "        text-align: right;\n",
       "    }\n",
       "</style>\n",
       "<table border=\"1\" class=\"dataframe\">\n",
       "  <thead>\n",
       "    <tr style=\"text-align: right;\">\n",
       "      <th></th>\n",
       "      <th>Selection rate</th>\n",
       "      <th>T</th>\n",
       "      <th>N</th>\n",
       "      <th>G</th>\n",
       "    </tr>\n",
       "  </thead>\n",
       "  <tbody>\n",
       "    <tr>\n",
       "      <th>bic</th>\n",
       "      <td>1.0</td>\n",
       "      <td>5</td>\n",
       "      <td>100</td>\n",
       "      <td>3</td>\n",
       "    </tr>\n",
       "    <tr>\n",
       "      <th>obj</th>\n",
       "      <td>1.0</td>\n",
       "      <td>5</td>\n",
       "      <td>100</td>\n",
       "      <td>3</td>\n",
       "    </tr>\n",
       "  </tbody>\n",
       "</table>\n",
       "</div>"
      ],
      "text/plain": [
       "     Selection rate  T    N  G\n",
       "bic             1.0  5  100  3\n",
       "obj             1.0  5  100  3"
      ]
     },
     "execution_count": 102,
     "metadata": {},
     "output_type": "execute_result"
    }
   ],
   "source": [
    "compare_bic(bic10, bic28, bic28,bic1, N=100, T=5, G=3)"
   ]
  },
  {
   "cell_type": "code",
   "execution_count": 103,
   "metadata": {},
   "outputs": [
    {
     "data": {
      "text/html": [
       "<div>\n",
       "<style scoped>\n",
       "    .dataframe tbody tr th:only-of-type {\n",
       "        vertical-align: middle;\n",
       "    }\n",
       "\n",
       "    .dataframe tbody tr th {\n",
       "        vertical-align: top;\n",
       "    }\n",
       "\n",
       "    .dataframe thead th {\n",
       "        text-align: right;\n",
       "    }\n",
       "</style>\n",
       "<table border=\"1\" class=\"dataframe\">\n",
       "  <thead>\n",
       "    <tr style=\"text-align: right;\">\n",
       "      <th></th>\n",
       "      <th>Selection rate</th>\n",
       "      <th>T</th>\n",
       "      <th>N</th>\n",
       "      <th>G</th>\n",
       "    </tr>\n",
       "  </thead>\n",
       "  <tbody>\n",
       "    <tr>\n",
       "      <th>bic</th>\n",
       "      <td>1.0</td>\n",
       "      <td>5</td>\n",
       "      <td>100</td>\n",
       "      <td>4</td>\n",
       "    </tr>\n",
       "    <tr>\n",
       "      <th>obj</th>\n",
       "      <td>0.0</td>\n",
       "      <td>5</td>\n",
       "      <td>100</td>\n",
       "      <td>4</td>\n",
       "    </tr>\n",
       "  </tbody>\n",
       "</table>\n",
       "</div>"
      ],
      "text/plain": [
       "     Selection rate  T    N  G\n",
       "bic             1.0  5  100  4\n",
       "obj             0.0  5  100  4"
      ]
     },
     "execution_count": 103,
     "metadata": {},
     "output_type": "execute_result"
    }
   ],
   "source": [
    "compare_bic(bic22,bic1,bic10,bic28, N=100, T=5, G=4)"
   ]
  },
  {
   "cell_type": "code",
   "execution_count": 107,
   "metadata": {},
   "outputs": [
    {
     "data": {
      "text/html": [
       "<div>\n",
       "<style scoped>\n",
       "    .dataframe tbody tr th:only-of-type {\n",
       "        vertical-align: middle;\n",
       "    }\n",
       "\n",
       "    .dataframe tbody tr th {\n",
       "        vertical-align: top;\n",
       "    }\n",
       "\n",
       "    .dataframe thead th {\n",
       "        text-align: right;\n",
       "    }\n",
       "</style>\n",
       "<table border=\"1\" class=\"dataframe\">\n",
       "  <thead>\n",
       "    <tr style=\"text-align: right;\">\n",
       "      <th></th>\n",
       "      <th>0</th>\n",
       "    </tr>\n",
       "  </thead>\n",
       "  <tbody>\n",
       "    <tr>\n",
       "      <th>0</th>\n",
       "      <td>1.831838</td>\n",
       "    </tr>\n",
       "    <tr>\n",
       "      <th>1</th>\n",
       "      <td>1.919508</td>\n",
       "    </tr>\n",
       "    <tr>\n",
       "      <th>2</th>\n",
       "      <td>1.819581</td>\n",
       "    </tr>\n",
       "    <tr>\n",
       "      <th>3</th>\n",
       "      <td>1.655281</td>\n",
       "    </tr>\n",
       "    <tr>\n",
       "      <th>4</th>\n",
       "      <td>1.805956</td>\n",
       "    </tr>\n",
       "  </tbody>\n",
       "</table>\n",
       "</div>"
      ],
      "text/plain": [
       "          0\n",
       "0  1.831838\n",
       "1  1.919508\n",
       "2  1.819581\n",
       "3  1.655281\n",
       "4  1.805956"
      ]
     },
     "execution_count": 107,
     "metadata": {},
     "output_type": "execute_result"
    }
   ],
   "source": [
    "pd.DataFrame(bic22['bic']).head()"
   ]
  },
  {
   "cell_type": "code",
   "execution_count": 108,
   "metadata": {},
   "outputs": [
    {
     "data": {
      "text/html": [
       "<div>\n",
       "<style scoped>\n",
       "    .dataframe tbody tr th:only-of-type {\n",
       "        vertical-align: middle;\n",
       "    }\n",
       "\n",
       "    .dataframe tbody tr th {\n",
       "        vertical-align: top;\n",
       "    }\n",
       "\n",
       "    .dataframe thead th {\n",
       "        text-align: right;\n",
       "    }\n",
       "</style>\n",
       "<table border=\"1\" class=\"dataframe\">\n",
       "  <thead>\n",
       "    <tr style=\"text-align: right;\">\n",
       "      <th></th>\n",
       "      <th>0</th>\n",
       "    </tr>\n",
       "  </thead>\n",
       "  <tbody>\n",
       "    <tr>\n",
       "      <th>0</th>\n",
       "      <td>2.356378</td>\n",
       "    </tr>\n",
       "    <tr>\n",
       "      <th>1</th>\n",
       "      <td>2.694292</td>\n",
       "    </tr>\n",
       "    <tr>\n",
       "      <th>2</th>\n",
       "      <td>2.510333</td>\n",
       "    </tr>\n",
       "    <tr>\n",
       "      <th>3</th>\n",
       "      <td>2.466467</td>\n",
       "    </tr>\n",
       "    <tr>\n",
       "      <th>4</th>\n",
       "      <td>2.508776</td>\n",
       "    </tr>\n",
       "  </tbody>\n",
       "</table>\n",
       "</div>"
      ],
      "text/plain": [
       "          0\n",
       "0  2.356378\n",
       "1  2.694292\n",
       "2  2.510333\n",
       "3  2.466467\n",
       "4  2.508776"
      ]
     },
     "execution_count": 108,
     "metadata": {},
     "output_type": "execute_result"
    }
   ],
   "source": [
    "pd.DataFrame(bic10['bic']).head()"
   ]
  },
  {
   "cell_type": "code",
   "execution_count": 110,
   "metadata": {},
   "outputs": [
    {
     "data": {
      "text/plain": [
       "0    0.0\n",
       "dtype: float64"
      ]
     },
     "execution_count": 110,
     "metadata": {},
     "output_type": "execute_result"
    }
   ],
   "source": [
    " (((pd.DataFrame(bic10['bic']) < pd.DataFrame(bic1['bic'])) & (pd.DataFrame(bic10['bic']) < pd.DataFrame(bic22['bic'])) & (pd.DataFrame(bic10['bic']) < pd.DataFrame(bic22['bic'])))*1).mean()"
   ]
  },
  {
   "cell_type": "code",
   "execution_count": 114,
   "metadata": {},
   "outputs": [
    {
     "data": {
      "text/html": [
       "<div>\n",
       "<style scoped>\n",
       "    .dataframe tbody tr th:only-of-type {\n",
       "        vertical-align: middle;\n",
       "    }\n",
       "\n",
       "    .dataframe tbody tr th {\n",
       "        vertical-align: top;\n",
       "    }\n",
       "\n",
       "    .dataframe thead th {\n",
       "        text-align: right;\n",
       "    }\n",
       "</style>\n",
       "<table border=\"1\" class=\"dataframe\">\n",
       "  <thead>\n",
       "    <tr style=\"text-align: right;\">\n",
       "      <th></th>\n",
       "      <th>0</th>\n",
       "    </tr>\n",
       "  </thead>\n",
       "  <tbody>\n",
       "    <tr>\n",
       "      <th>0</th>\n",
       "      <td>False</td>\n",
       "    </tr>\n",
       "    <tr>\n",
       "      <th>1</th>\n",
       "      <td>False</td>\n",
       "    </tr>\n",
       "    <tr>\n",
       "      <th>2</th>\n",
       "      <td>False</td>\n",
       "    </tr>\n",
       "    <tr>\n",
       "      <th>3</th>\n",
       "      <td>False</td>\n",
       "    </tr>\n",
       "    <tr>\n",
       "      <th>4</th>\n",
       "      <td>False</td>\n",
       "    </tr>\n",
       "    <tr>\n",
       "      <th>...</th>\n",
       "      <td>...</td>\n",
       "    </tr>\n",
       "    <tr>\n",
       "      <th>995</th>\n",
       "      <td>False</td>\n",
       "    </tr>\n",
       "    <tr>\n",
       "      <th>996</th>\n",
       "      <td>False</td>\n",
       "    </tr>\n",
       "    <tr>\n",
       "      <th>997</th>\n",
       "      <td>False</td>\n",
       "    </tr>\n",
       "    <tr>\n",
       "      <th>998</th>\n",
       "      <td>False</td>\n",
       "    </tr>\n",
       "    <tr>\n",
       "      <th>999</th>\n",
       "      <td>False</td>\n",
       "    </tr>\n",
       "  </tbody>\n",
       "</table>\n",
       "<p>1000 rows × 1 columns</p>\n",
       "</div>"
      ],
      "text/plain": [
       "         0\n",
       "0    False\n",
       "1    False\n",
       "2    False\n",
       "3    False\n",
       "4    False\n",
       "..     ...\n",
       "995  False\n",
       "996  False\n",
       "997  False\n",
       "998  False\n",
       "999  False\n",
       "\n",
       "[1000 rows x 1 columns]"
      ]
     },
     "execution_count": 114,
     "metadata": {},
     "output_type": "execute_result"
    }
   ],
   "source": [
    "pd.DataFrame(bic10['bic']) < pd.DataFrame(bic22['bic'])"
   ]
  },
  {
   "cell_type": "code",
   "execution_count": 118,
   "metadata": {},
   "outputs": [],
   "source": [
    "from plots_groups import *"
   ]
  },
  {
   "cell_type": "code",
   "execution_count": 119,
   "metadata": {},
   "outputs": [],
   "source": [
    "colors = ['#547482','#C87259','#C2D8C2','#F1B05D','#818662','#6C4A4D','#7A8C87','#EE8445','#C8B05C','#3C2030','#C89D64','#2A3B49']"
   ]
  },
  {
   "cell_type": "code",
   "execution_count": 120,
   "metadata": {},
   "outputs": [
    {
     "ename": "KeyError",
     "evalue": "(slice(None, None, None), 2)",
     "output_type": "error",
     "traceback": [
      "\u001b[0;31m---------------------------------------------------------------------------\u001b[0m",
      "\u001b[0;31mKeyError\u001b[0m                                  Traceback (most recent call last)",
      "\u001b[0;32m<ipython-input-120-aaba667d6ac8>\u001b[0m in \u001b[0;36m<module>\u001b[0;34m\u001b[0m\n\u001b[0;32m----> 1\u001b[0;31m \u001b[0msampling_plot\u001b[0m\u001b[0;34m(\u001b[0m\u001b[0mrealizations\u001b[0m\u001b[0;34m=\u001b[0m\u001b[0mpd\u001b[0m\u001b[0;34m.\u001b[0m\u001b[0mDataFrame\u001b[0m\u001b[0;34m(\u001b[0m\u001b[0mestimates22\u001b[0m\u001b[0;34m[\u001b[0m\u001b[0;34m'Estimates'\u001b[0m\u001b[0;34m]\u001b[0m\u001b[0;34m)\u001b[0m\u001b[0;34m[\u001b[0m\u001b[0;34m:\u001b[0m\u001b[0;34m,\u001b[0m\u001b[0;36m2\u001b[0m\u001b[0;34m]\u001b[0m\u001b[0;34m,\u001b[0m \u001b[0mparameters\u001b[0m\u001b[0;34m=\u001b[0m \u001b[0;34m[\u001b[0m\u001b[0;36m0.1\u001b[0m\u001b[0;34m,\u001b[0m \u001b[0;36m0.5\u001b[0m\u001b[0;34m]\u001b[0m\u001b[0;34m,\u001b[0m \u001b[0mcolors\u001b[0m\u001b[0;34m=\u001b[0m\u001b[0mcolors\u001b[0m\u001b[0;34m,\u001b[0m \u001b[0mnfeatures\u001b[0m\u001b[0;34m=\u001b[0m\u001b[0;36m2\u001b[0m\u001b[0;34m,\u001b[0m \u001b[0mtitles\u001b[0m\u001b[0;34m=\u001b[0m\u001b[0;34m[\u001b[0m\u001b[0;34m'theta one'\u001b[0m\u001b[0;34m,\u001b[0m\u001b[0;34m'theta two'\u001b[0m\u001b[0;34m]\u001b[0m\u001b[0;34m,\u001b[0m \u001b[0mfig_width\u001b[0m\u001b[0;34m=\u001b[0m\u001b[0;36m9\u001b[0m\u001b[0;34m,\u001b[0m \u001b[0mfig_height\u001b[0m\u001b[0;34m=\u001b[0m\u001b[0;36m27\u001b[0m\u001b[0;34m,\u001b[0m \u001b[0mbins\u001b[0m\u001b[0;34m=\u001b[0m\u001b[0;36m30\u001b[0m\u001b[0;34m,\u001b[0m \u001b[0malpha\u001b[0m\u001b[0;34m=\u001b[0m\u001b[0;36m0.8\u001b[0m\u001b[0;34m)\u001b[0m\u001b[0;34m\u001b[0m\u001b[0;34m\u001b[0m\u001b[0m\n\u001b[0m",
      "\u001b[0;32m/opt/anaconda3/lib/python3.8/site-packages/pandas/core/frame.py\u001b[0m in \u001b[0;36m__getitem__\u001b[0;34m(self, key)\u001b[0m\n\u001b[1;32m   2900\u001b[0m             \u001b[0;32mif\u001b[0m \u001b[0mself\u001b[0m\u001b[0;34m.\u001b[0m\u001b[0mcolumns\u001b[0m\u001b[0;34m.\u001b[0m\u001b[0mnlevels\u001b[0m \u001b[0;34m>\u001b[0m \u001b[0;36m1\u001b[0m\u001b[0;34m:\u001b[0m\u001b[0;34m\u001b[0m\u001b[0;34m\u001b[0m\u001b[0m\n\u001b[1;32m   2901\u001b[0m                 \u001b[0;32mreturn\u001b[0m \u001b[0mself\u001b[0m\u001b[0;34m.\u001b[0m\u001b[0m_getitem_multilevel\u001b[0m\u001b[0;34m(\u001b[0m\u001b[0mkey\u001b[0m\u001b[0;34m)\u001b[0m\u001b[0;34m\u001b[0m\u001b[0;34m\u001b[0m\u001b[0m\n\u001b[0;32m-> 2902\u001b[0;31m             \u001b[0mindexer\u001b[0m \u001b[0;34m=\u001b[0m \u001b[0mself\u001b[0m\u001b[0;34m.\u001b[0m\u001b[0mcolumns\u001b[0m\u001b[0;34m.\u001b[0m\u001b[0mget_loc\u001b[0m\u001b[0;34m(\u001b[0m\u001b[0mkey\u001b[0m\u001b[0;34m)\u001b[0m\u001b[0;34m\u001b[0m\u001b[0;34m\u001b[0m\u001b[0m\n\u001b[0m\u001b[1;32m   2903\u001b[0m             \u001b[0;32mif\u001b[0m \u001b[0mis_integer\u001b[0m\u001b[0;34m(\u001b[0m\u001b[0mindexer\u001b[0m\u001b[0;34m)\u001b[0m\u001b[0;34m:\u001b[0m\u001b[0;34m\u001b[0m\u001b[0;34m\u001b[0m\u001b[0m\n\u001b[1;32m   2904\u001b[0m                 \u001b[0mindexer\u001b[0m \u001b[0;34m=\u001b[0m \u001b[0;34m[\u001b[0m\u001b[0mindexer\u001b[0m\u001b[0;34m]\u001b[0m\u001b[0;34m\u001b[0m\u001b[0;34m\u001b[0m\u001b[0m\n",
      "\u001b[0;32m/opt/anaconda3/lib/python3.8/site-packages/pandas/core/indexes/range.py\u001b[0m in \u001b[0;36mget_loc\u001b[0;34m(self, key, method, tolerance)\u001b[0m\n\u001b[1;32m    356\u001b[0m                 \u001b[0;32mexcept\u001b[0m \u001b[0mValueError\u001b[0m \u001b[0;32mas\u001b[0m \u001b[0merr\u001b[0m\u001b[0;34m:\u001b[0m\u001b[0;34m\u001b[0m\u001b[0;34m\u001b[0m\u001b[0m\n\u001b[1;32m    357\u001b[0m                     \u001b[0;32mraise\u001b[0m \u001b[0mKeyError\u001b[0m\u001b[0;34m(\u001b[0m\u001b[0mkey\u001b[0m\u001b[0;34m)\u001b[0m \u001b[0;32mfrom\u001b[0m \u001b[0merr\u001b[0m\u001b[0;34m\u001b[0m\u001b[0;34m\u001b[0m\u001b[0m\n\u001b[0;32m--> 358\u001b[0;31m             \u001b[0;32mraise\u001b[0m \u001b[0mKeyError\u001b[0m\u001b[0;34m(\u001b[0m\u001b[0mkey\u001b[0m\u001b[0;34m)\u001b[0m\u001b[0;34m\u001b[0m\u001b[0;34m\u001b[0m\u001b[0m\n\u001b[0m\u001b[1;32m    359\u001b[0m         \u001b[0;32mreturn\u001b[0m \u001b[0msuper\u001b[0m\u001b[0;34m(\u001b[0m\u001b[0;34m)\u001b[0m\u001b[0;34m.\u001b[0m\u001b[0mget_loc\u001b[0m\u001b[0;34m(\u001b[0m\u001b[0mkey\u001b[0m\u001b[0;34m,\u001b[0m \u001b[0mmethod\u001b[0m\u001b[0;34m=\u001b[0m\u001b[0mmethod\u001b[0m\u001b[0;34m,\u001b[0m \u001b[0mtolerance\u001b[0m\u001b[0;34m=\u001b[0m\u001b[0mtolerance\u001b[0m\u001b[0;34m)\u001b[0m\u001b[0;34m\u001b[0m\u001b[0;34m\u001b[0m\u001b[0m\n\u001b[1;32m    360\u001b[0m \u001b[0;34m\u001b[0m\u001b[0m\n",
      "\u001b[0;31mKeyError\u001b[0m: (slice(None, None, None), 2)"
     ]
    }
   ],
   "source": [
    "sampling_plot(realizations=pd.DataFrame(estimates22['Estimates'])[:,2], parameters= [0.1, 0.5], colors=colors, nfeatures=2, titles=['theta one','theta two'], fig_width=9, fig_height=27, bins=30, alpha=0.8)"
   ]
  },
  {
   "cell_type": "code",
   "execution_count": null,
   "metadata": {},
   "outputs": [],
   "source": [
    "num_plots = len(realizations.columns)\n",
    "    fig, ax = plt.subplots(int(num_plots/nfeatures), nfeatures, figsize=(fig_width, fig_height))\n",
    "    for k in range(nfeatures):\n",
    "        for i in range(int(num_plots/nfeatures)):\n",
    "            sns.set_palette(colors)\n",
    "            sns.histplot(\n",
    "            data=realizations.iloc[:,(i+(k*int(num_plots/nfeatures)))],\n",
    "            bins=bins,\n",
    "            alpha=alpha,\n",
    "            kde=True,\n",
    "            ax=ax[i,k]\n",
    "            )\n",
    "            ax[i,k].axhline(0, color=\"black\", alpha=alpha)\n",
    "            ax[:,k].set_title(titles[k])\n",
    "            ax[i,k].spines[\"right\"].set_visible(False)\n",
    "            ax[i,k].spines[\"top\"].set_visible(False)\n",
    "            ax[i,k].spines[\"top\"].set_visible(False)\n",
    "            #ax[i,k].vlines(parameters)\n",
    "            ax[i,k].axvline(parameters[(i+(k*(int(num_plots/nfeatures))))], c=colors[1])"
   ]
  }
 ],
 "metadata": {
  "kernelspec": {
   "display_name": "Python 3",
   "language": "python",
   "name": "python3"
  },
  "language_info": {
   "codemirror_mode": {
    "name": "ipython",
    "version": 3
   },
   "file_extension": ".py",
   "mimetype": "text/x-python",
   "name": "python",
   "nbconvert_exporter": "python",
   "pygments_lexer": "ipython3",
   "version": "3.8.5"
  }
 },
 "nbformat": 4,
 "nbformat_minor": 4
}
