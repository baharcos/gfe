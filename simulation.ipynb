{
 "cells": [
  {
   "cell_type": "code",
   "execution_count": 1,
   "metadata": {},
   "outputs": [],
   "source": [
    "import numpy as np\n",
    "from gfe_estimation import estimate_grouped_fixed_effect_model_parameters"
   ]
  },
  {
   "cell_type": "markdown",
   "metadata": {},
   "source": [
    "# Simulate the outcome variable\n",
    "\n",
    "$y_{it} = x_{it}'\\theta + \\alpha_{g_it} + \\epsilon_{it}$\n",
    "\n",
    "## Simulation Strategy\n",
    "\n",
    "For independent individuals i= 1,...,N=100 with g=1,G=2 distict grouping over time t=1,...,T=2\n",
    "\n",
    "- Simulate k=2 independent covariates $x_{i1k} \\sim Unif(0,30), x_{i1k} \\sim Unif(15,50) $ ( Did I introduced a time trend that I should not have?) \n",
    "- Simulate $\\epsilon_{it} \\sim \\mathcal{N}(0, \\sigma^2)$\n",
    "- alpha = [40, 60, 80, 90]\n",
    "- thetha = [0.2, 0.8]"
   ]
  },
  {
   "cell_type": "code",
   "execution_count": 6,
   "metadata": {},
   "outputs": [],
   "source": [
    "#make it flexible\n",
    "def simulate():\n",
    "    np.random.seed(1)\n",
    "    alpha = np.array([40,60,80,90])\n",
    "    theta = np.array([0.2, 0.8])\n",
    "    x_i11 = np.random.uniform(low=0, high=30, size=100)\n",
    "    x_i12 = np.random.uniform(low=0, high=30, size=100)\n",
    "    x_i21 = np.random.uniform(low=15, high=50, size=100)\n",
    "    x_i22 = np.random.uniform(low=15, high=50, size=100)\n",
    "    x_it1 = np.transpose(np.asmatrix([x_i11, x_i21])).flatten()\n",
    "    x_it2 = np.transpose(np.asmatrix([x_i12, x_i22])).flatten()\n",
    "    X = np.vstack((x_it1,x_it2)).T\n",
    "    epsilon = np.random.randn(200)\n",
    "    dummy = np.tile(np.identity(4), 50).T\n",
    "    Y = dummy @ alpha + X@theta + epsilon\n",
    "    return Y, X"
   ]
  },
  {
   "cell_type": "code",
   "execution_count": 23,
   "metadata": {},
   "outputs": [],
   "source": [
    "s= 1000\n",
    "Y = simulate()[0]\n",
    "X = simulate()[1]\n",
    "estimates = estimate_grouped_fixed_effect_model_parameters(outcome=Y, groups=2, periods=2, individuals=100, \n",
    "                                                           alpha_0=np.array([40, 60, 80, 90]), \n",
    "                                                           theta_0 = np.array([0.2,0.8]), X=X, k=2)"
   ]
  },
  {
   "cell_type": "markdown",
   "metadata": {},
   "source": [
    "### writing a flexible simulation and replication function:\n",
    "- simulate from different distributions(check whether it could work)\n",
    "- different number of features, groups, observations, pereiods(?)\n",
    "- with different alpha and theta parameters\n",
    "- seed(?)\n",
    "\n",
    "### replication:\n",
    "- How do I store the replicated simulation data?\n",
    "- np.repeat my not be the way to go.\n",
    "- How do I make sure stored X, Y and estimates come from the same simulation?"
   ]
  },
  {
   "cell_type": "code",
   "execution_count": null,
   "metadata": {},
   "outputs": [],
   "source": [
    "def simulate(\n",
    "    seed\n",
    "    nobs,\n",
    "    nfeatures,\n",
    "    ngroups,\n",
    "    nperiods,\n",
    "    theta,\n",
    "    alpha,\n",
    "    #...\n",
    "):\n",
    "    \"\"\"Simulate data with unobserved grouped dynamic heterogeneity.\n",
    "    Simulate outcomes y (length *nobs*), features X (*nobs* x *nfeatures*) and\n",
    "    grouped fixed effects alpha by imposing a linear model.\n",
    "    \n",
    "    \"\"\""
   ]
  },
  {
   "cell_type": "code",
   "execution_count": null,
   "metadata": {},
   "outputs": [],
   "source": []
  }
 ],
 "metadata": {
  "kernelspec": {
   "display_name": "Python 3",
   "language": "python",
   "name": "python3"
  },
  "language_info": {
   "codemirror_mode": {
    "name": "ipython",
    "version": 3
   },
   "file_extension": ".py",
   "mimetype": "text/x-python",
   "name": "python",
   "nbconvert_exporter": "python",
   "pygments_lexer": "ipython3",
   "version": "3.8.5"
  }
 },
 "nbformat": 4,
 "nbformat_minor": 4
}
