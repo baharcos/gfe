{
 "cells": [
  {
   "cell_type": "code",
   "execution_count": 1,
   "metadata": {},
   "outputs": [],
   "source": [
    "from simulate_bias import *\n",
    "from julia.api import Julia\n",
    "jpath = \"/Applications/Julia-1.7.app/Contents/Resources/julia/bin/julia\" # path to Julia, from current directory (your path may be slightly different)\n",
    "jl = Julia(runtime=jpath, compiled_modules=False)\n",
    "from julia import Main\n",
    "from julia import InteractiveFixedEffectModels"
   ]
  },
  {
   "cell_type": "code",
   "execution_count": 2,
   "metadata": {},
   "outputs": [
    {
     "name": "stdout",
     "output_type": "stream",
     "text": [
      "Initializing Julia interpreter. This may take some time...\n"
     ]
    }
   ],
   "source": [
    "%load_ext julia.magic\n",
    "%julia using DataFrames, InteractiveFixedEffectModels\n",
    "%julia using StatsModels"
   ]
  },
  {
   "cell_type": "code",
   "execution_count": 6,
   "metadata": {},
   "outputs": [],
   "source": [
    "%julia using CSV, Tables"
   ]
  },
  {
   "cell_type": "code",
   "execution_count": 12,
   "metadata": {},
   "outputs": [],
   "source": [
    "def monte_carlo_simulation_ife(\n",
    "    nindividuals,\n",
    "    nfeatures,\n",
    "    ngroups,\n",
    "    nperiods,\n",
    "    theta,\n",
    "    alpha,\n",
    "    low,\n",
    "    up,\n",
    "    nreps,\n",
    "    seed\n",
    "):\n",
    "    \"\"\"[summary]\n",
    "\n",
    "    Args:\n",
    "        nindividuals ([type]): [description]\n",
    "        nfeatures ([type]): [description]\n",
    "        ngroups ([type]): [description]\n",
    "        specified_ngroups([type]): [description]\n",
    "        nperiods ([type]): [description]\n",
    "        theta ([type]): [description]\n",
    "        alpha ([type]): [description]\n",
    "        theta_0\n",
    "        alpha_0\n",
    "        low ([type]): [description]\n",
    "        up ([type]): [description]\n",
    "        nreps ([type]): [description]\n",
    "        seed ([type]): [description],\n",
    "    \n",
    "    Return:\n",
    "\n",
    "    \"\"\"\n",
    "    np.random.seed(seed)\n",
    "    %julia coefficients = Vector()\n",
    "    %julia se = Vector()\n",
    "    #%julia ci = Vector()\n",
    "    \n",
    "    for i in range(nreps):\n",
    "        y, X = simulate_ovb(nindividuals, nfeatures, ngroups, nperiods, theta, alpha, low, up)\n",
    "        a = np.empty((y.size,(nfeatures+3))) #creating the data for FE reg\n",
    "        a[:,0] = np.tile(np.arange(0,nindividuals,1),(nperiods,1)).T.flatten() #individual index\n",
    "        a[:,1] = np.tile(np.arange(0,nperiods,1),nindividuals) #time index\n",
    "        a[:,2] = y\n",
    "        a[:,3:]= X\n",
    "        %julia df = DataFrame(py\"a\", :auto)\n",
    "        %julia b = regife(df, @formula(x3 ~ x4 + x5 + ife(x1, x2, 2)))\n",
    "        %julia push!(coefficients, coef(b)[2:3])\n",
    "        %julia push!(se, stderror(b)[2:3])\n",
    "        #%julia push!(ci, confint(b; level = 0.95)[2:3, :])\n",
    "\n",
    "    \n",
    "    %julia CSV.write(\"/Users/baharcoskun/gfe/ife/coef9.csv\",  Tables.table(coefficients), writeheader=false)\n",
    "    %julia CSV.write(\"/Users/baharcoskun/gfe/ife/se9.csv\",  Tables.table(se), writeheader=false)\n",
    "    #%julia CSV.write(\"/Users/baharcoskun/gfe/ife/ci1.csv\",  Tables.table(se), writeheader=false)"
   ]
  },
  {
   "cell_type": "code",
   "execution_count": 7,
   "metadata": {},
   "outputs": [
    {
     "name": "stderr",
     "output_type": "stream",
     "text": [
      "[ Info: Algorithm ended up on a local minimum. Restarting from a new, random, x0.\n"
     ]
    }
   ],
   "source": [
    "monte_carlo_simulation_ife(\n",
    "    nindividuals=50,\n",
    "    nfeatures=2,\n",
    "    ngroups=2,\n",
    "    nperiods=5,\n",
    "    theta=np.array([0.1, 0.5]),\n",
    "    alpha=alpha(5),\n",
    "    low=-3,\n",
    "    up=3, nreps=1000, seed=1)"
   ]
  },
  {
   "cell_type": "code",
   "execution_count": null,
   "metadata": {},
   "outputs": [],
   "source": [
    "monte_carlo_simulation_ife(\n",
    "    nindividuals=100,\n",
    "    nfeatures=2,\n",
    "    ngroups=2,\n",
    "    nperiods=5,\n",
    "    theta=np.array([0.1, 0.5]),\n",
    "    alpha=alpha(5),\n",
    "    low=-3,\n",
    "    up=3, nreps=1000, seed=1)"
   ]
  },
  {
   "cell_type": "code",
   "execution_count": 9,
   "metadata": {},
   "outputs": [],
   "source": [
    "monte_carlo_simulation_ife(\n",
    "    nindividuals=1000,\n",
    "    nfeatures=2,\n",
    "    ngroups=2,\n",
    "    nperiods=5,\n",
    "    theta=np.array([0.1, 0.5]),\n",
    "    alpha=alpha(5),\n",
    "    low=-3,\n",
    "    up=3, nreps=1000, seed=1)"
   ]
  },
  {
   "cell_type": "code",
   "execution_count": null,
   "metadata": {},
   "outputs": [],
   "source": [
    "monte_carlo_simulation_ife(\n",
    "    nindividuals=50,\n",
    "    nfeatures=2,\n",
    "    ngroups=2,\n",
    "    nperiods=10,\n",
    "    theta=np.array([0.1, 0.5]),\n",
    "    alpha=alpha(10),\n",
    "    low=-3,\n",
    "    up=3, nreps=1000, seed=1)"
   ]
  },
  {
   "cell_type": "code",
   "execution_count": 11,
   "metadata": {},
   "outputs": [],
   "source": [
    "monte_carlo_simulation_ife(\n",
    "    nindividuals=100,\n",
    "    nfeatures=2,\n",
    "    ngroups=2,\n",
    "    nperiods=10,\n",
    "    theta=np.array([0.1, 0.5]),\n",
    "    alpha=alpha(10),\n",
    "    low=-3,\n",
    "    up=3, nreps=1000, seed=1)"
   ]
  },
  {
   "cell_type": "code",
   "execution_count": null,
   "metadata": {},
   "outputs": [],
   "source": [
    "monte_carlo_simulation_ife(\n",
    "    nindividuals=1000,\n",
    "    nfeatures=2,\n",
    "    ngroups=2,\n",
    "    nperiods=10,\n",
    "    theta=np.array([0.1, 0.5]),\n",
    "    alpha=alpha(10),\n",
    "    low=-3,\n",
    "    up=3, nreps=1000, seed=1)"
   ]
  },
  {
   "cell_type": "code",
   "execution_count": 13,
   "metadata": {},
   "outputs": [],
   "source": [
    "#7: first run the func.\n",
    "monte_carlo_simulation_ife(\n",
    "    nindividuals=50,\n",
    "    nfeatures=2,\n",
    "    ngroups=2,\n",
    "    nperiods=20,\n",
    "    theta=np.array([0.1, 0.5]),\n",
    "    alpha=alpha(20),\n",
    "    low=-3,\n",
    "    up=3, nreps=1000, seed=1)"
   ]
  },
  {
   "cell_type": "code",
   "execution_count": null,
   "metadata": {},
   "outputs": [],
   "source": [
    "monte_carlo_simulation_ife(\n",
    "    nindividuals=100,\n",
    "    nfeatures=2,\n",
    "    ngroups=2,\n",
    "    nperiods=20,\n",
    "    theta=np.array([0.1, 0.5]),\n",
    "    alpha=alpha(20),\n",
    "    low=-3,\n",
    "    up=3, nreps=1000, seed=1)"
   ]
  },
  {
   "cell_type": "code",
   "execution_count": 14,
   "metadata": {},
   "outputs": [],
   "source": [
    "#9: first run the func.\n",
    "monte_carlo_simulation_ife(\n",
    "    nindividuals=1000,\n",
    "    nfeatures=2,\n",
    "    ngroups=2,\n",
    "    nperiods=20,\n",
    "    theta=np.array([0.1, 0.5]),\n",
    "    alpha=alpha(20),\n",
    "    low=-3,\n",
    "    up=3, nreps=1000, seed=1)"
   ]
  },
  {
   "cell_type": "code",
   "execution_count": null,
   "metadata": {},
   "outputs": [],
   "source": []
  }
 ],
 "metadata": {
  "kernelspec": {
   "display_name": "Python 3",
   "language": "python",
   "name": "python3"
  },
  "language_info": {
   "codemirror_mode": {
    "name": "ipython",
    "version": 3
   },
   "file_extension": ".py",
   "mimetype": "text/x-python",
   "name": "python",
   "nbconvert_exporter": "python",
   "pygments_lexer": "ipython3",
   "version": "3.8.5"
  }
 },
 "nbformat": 4,
 "nbformat_minor": 4
}
